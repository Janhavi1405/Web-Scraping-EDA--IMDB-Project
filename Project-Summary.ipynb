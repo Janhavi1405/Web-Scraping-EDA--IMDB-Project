{
 "cells": [
  {
   "cell_type": "markdown",
   "id": "69454451",
   "metadata": {},
   "source": [
    "# Group 10: Summary"
   ]
  },
  {
   "cell_type": "markdown",
   "id": "b18de0ca",
   "metadata": {},
   "source": [
    "### Data Source and Description"
   ]
  },
  {
   "cell_type": "markdown",
   "id": "c3ed4413",
   "metadata": {},
   "source": [
    "- The primary data for this project was sourced from a publicly available curated list titled \"The 500 Greatest Movies of All Time According to Letterboxd\". \n",
    "\n",
    "- This list is maintained on the Letterboxd platform and represents a ranked compilation of films based on community ratings and critical acclaim. \n",
    "\n",
    "- The list spans a wide range of genres, languages, and time periods, making it suitable for a comprehensive exploratory analysis of global cinematic trends.\n",
    "\n",
    "- Each entry in the list includes the title of a film but does not provide structured metadata such as release year, director, genre, rating, runtime, or box office performance. \n",
    "\n",
    "- To enrich the dataset and support further analysis, supplementary data was gathered from the Open Movie Database (OMDb), which is a widely used and accessible API for retrieving film metadata based on title searches. \n",
    "\n",
    "- The OMDb API returns a range of structured fields, including IMDb rating, Metascore, content rating, runtime, genres, directors, actors, plot summaries, vote counts, and gross earnings.\n",
    "\n",
    "- The dataset resulting from this combined approach includes 500 film titles with enriched metadata sourced from OMDb, enabling a multidimensional analysis of some of the most critically acclaimed films of all time."
   ]
  },
  {
   "cell_type": "markdown",
   "id": "3512c689",
   "metadata": {},
   "source": [
    "Dataset Description: <br>\n",
    "Information about variables in the dataset we have collected:\n",
    "\n",
    "- **Title**: The name of the movie\n",
    "- **Year**: The year the movie was released\n",
    "- **Rated**: The content rating of the movie\n",
    "- **Runtime**: The duration of the movie in minutes\n",
    "- **Genre**: The genre(s) of the movie\n",
    "- **Director**: The director of the movie\n",
    "- **Stars**: The main stars of the movie\n",
    "- **IMDB_Rating**: The IMDb rating of the movie\n",
    "- **Metascore**: The Metascore rating of the movie\n",
    "- **Votes**: The number of votes the movie has received\n",
    "- **Gross**: The gross earnings of the movie (in million dollars)\n",
    "- **Plot**: A brief description of the movie (Already Dropped)"
   ]
  },
  {
   "cell_type": "markdown",
   "id": "20961290",
   "metadata": {},
   "source": [
    "### Data Retrieval technique"
   ]
  },
  {
   "cell_type": "markdown",
   "id": "e91a87a2",
   "metadata": {},
   "source": [
    "- The data retrieval process consisted of two major components: \n",
    "    1. web scraping;  \n",
    "    2. API integration\n",
    "\n",
    "- The first phase involved web scraping to extract all 500 movie titles from the Letterboxd list. Since the full list is distributed across five paginated views on the website, a loop-based approach was implemented using the `_requests_` and `_BeautifulSoup_` libraries in Python. For each page, movie titles were extracted from structured HTML elements and compiled into a single list. Each title was then cleaned and standardized to support accurate lookup via the OMDb API.\n",
    "\n",
    "- In the second phase, the compiled list of titles was used to programmatically query the OMDb API. Each movie title was submitted as a search query, and structured metadata was returned in JSON format. A delay was implemented between API calls to ensure rate limit compliance. The returned records were stored in a tabular format and reviewed for completeness.\n",
    "\n",
    "- To address potential mismatches and incomplete responses, a title correction dictionary was created. This allowed for re-submission of failed queries with revised or corrected movie titles (e.g., adding apostrophes, correcting translations, or adjusting special characters). This additional step significantly improved the match rate with OMDb and ensured a more complete final dataset.\n",
    "\n",
    "- The final retrieval process yielded a well-structured DataFrame containing detailed information for nearly all of the 500 films. All scripts for scraping and API retrieval are available in the corresponding project notebooks, and the entire process was designed for reproducibility and transparency."
   ]
  },
  {
   "cell_type": "markdown",
   "id": "95d02e54",
   "metadata": {},
   "source": [
    "### Data Cleaning and Transformation"
   ]
  },
  {
   "cell_type": "markdown",
   "id": "c7aac071",
   "metadata": {},
   "source": [
    "- The retrieved raw data was transformed into a tidy tabular format. \n",
    "\n",
    "- Null values were handled appropriately, such as imputing `\"Not Rated\"` for missing content ratings. \n",
    "\n",
    "- The plot description column was dropped to streamline the dataset. \n",
    "\n",
    "- Runtime values were standardized by extracting numeric durations in minutes into a new `Duration_Minutes` column. \n",
    "\n",
    "- Duplicate rows were checked and confirmed to be absent. \n",
    "\n",
    "- Column-level completeness was assessed using standard null-value summaries."
   ]
  },
  {
   "cell_type": "markdown",
   "id": "76688a06",
   "metadata": {},
   "source": [
    "### Testing"
   ]
  },
  {
   "cell_type": "markdown",
   "id": "888031eb",
   "metadata": {},
   "source": [
    "- info"
   ]
  },
  {
   "cell_type": "markdown",
   "id": "60afb070",
   "metadata": {},
   "source": [
    "### Data Enrichment"
   ]
  },
  {
   "cell_type": "markdown",
   "id": "460d8353",
   "metadata": {},
   "source": [
    "Our enrichment part of the project focused on deriving new features, standardizing existing ones, and improving the interpretability of key variables. The enrichment process enabled more meaningful segmentation and comparison across different aspects of the film corpus, such as runtime, critical reception, and financial performance.\n",
    "\n",
    "- **Runtime Standardization**:  \n",
    "  Runtime values were initially stored as unstructured strings in formats like `\"142 min\"` or `\"2h 22m\"`. A custom parsing function was implemented to convert all entries into a consistent numeric format representing duration in minutes. The resulting `Duration_Minutes` column enabled quantitative analysis of film lengths.\n",
    "\n",
    "- **Categorical Field Imputation**:  \n",
    "  Several fields such as `Rated`, `Genre`, `Director`, and `Gross` contained missing or inconsistent values. These were addressed with meaningful default values:  \n",
    "  - `\"Not Rated\"` for missing content ratings  \n",
    "  - `\"Unknown\"` for missing directors and genres  \n",
    "  - `\"No info\"` for missing box office values\n",
    "\n",
    "- **Title Correction Dictionary**:  \n",
    "  Some movies failed to return results from the OMDb API due to minor discrepancies (e.g., missing apostrophes, alternate translations, or formatting issues). A title correction dictionary was created to remap these entries to their accurate titles. This allowed for a second round of API queries, significantly improving coverage and reducing data loss.\n",
    "\n",
    "- **Derived Features for Analysis**:  \n",
    "  Post-cleaning, new columns and structures supported multi-dimensional analysis. For example, relationships between runtime and IMDb rating could be assessed, genre distributions explored, and director-based comparisons performed.\n",
    "\n",
    "These enrichment steps collectively ensured that the final dataset was not only complete and standardized, but also analytically robust. It supported descriptive statistics, visual exploration, and interactive filtering with high fidelity which we will explain in subsequent sections."
   ]
  },
  {
   "cell_type": "markdown",
   "id": "a0bea856",
   "metadata": {},
   "source": [
    "### Summary Statistics"
   ]
  },
  {
   "cell_type": "markdown",
   "id": "524739c5",
   "metadata": {},
   "source": [
    "The data analysis section explores key quantitative metrics across the top 500 movies and highlights important trends through summary statistics and visualizations.\n",
    "\n",
    "- **Data Types and Structure**  \n",
    "  The dataset includes both numeric and categorical variables. A preliminary breakdown was done to separate numeric features (e.g., IMDb rating, runtime, votes, gross) from categorical ones (e.g., rating category, genre, director).\n",
    "\n",
    "- **Distributional Insights**  \n",
    "  Histograms and boxplots were generated for all numeric columns. These revealed that:\n",
    "  - **IMDb ratings** are tightly clustered between 7.7 and 8.7, with a strong central tendency around 8.3.\n",
    "  - **Runtime** values show a peak between 90 and 130 minutes, consistent with standard feature-length films.\n",
    "  - **Vote counts** are heavily right-skewed, with a small number of movies receiving millions of votes and many others under 100k.\n",
    "\n",
    "- **Descriptive Statistics**  \n",
    "  Summary statistics using `.describe()` were applied to `Votes` and `Gross`, showing:\n",
    "  - A **median vote count** significantly lower than the mean, confirming skew.\n",
    "  - A wide range of gross revenues, from low-budget films to blockbusters crossing hundreds of millions.\n",
    "\n",
    "- **Extrema Identification**  \n",
    "  Specific queries were run to identify standout films:\n",
    "  - The movie with the **highest IMDb rating**, **highest Metascore**, **most votes**, and **highest gross** were printed.\n",
    "  - Likewise, the movies with the **lowest values** in those fields were also extracted.\n",
    "  - Additional insights like the **longest and shortest runtimes** were computed and attributed to specific films and years.\n",
    "\n",
    "- **Categorical Breakdown**  \n",
    "  A frequency count of movie certificates (content ratings like PG, R, etc.) was produced using `.value_counts()`, followed by a `countplot` to visualize their distribution. \n",
    "- The majority of films, over 150 in number, are rated 'Not Rated', signifying content suitable for **All Ages**.\n",
    "- The 'R' category follows with around 130 movies, indicating content for **Adults**.\n",
    "- 'PG-13' and 'PG','Approved' occupy the 3rd, 4th and 5th positions, each with approximately 50-70 movies, representing content for **Teens/PG**.\n",
    "- The 'Passed', 'G', and 'Approved' categories are all part of the **All Ages** group, each with just under 20 movies.\n",
    "- Other categories have significantly fewer movies, typically less than 10.\n",
    "\n",
    "These statistical insights provide a strong foundation for identifying patterns in critical and commercial success, as well as content trends across the most celebrated films.\n"
   ]
  },
  {
   "cell_type": "markdown",
   "id": "11da83d4",
   "metadata": {},
   "source": [
    "## Visualizations"
   ]
  },
  {
   "cell_type": "markdown",
   "id": "bd36d85a",
   "metadata": {},
   "source": [
    "### Distribution of IMDb Ratings\n",
    "![IMDb Ratings](/Users/tanvimehrotra/Downloads/New/imgs/imdb-ratings.png)\n",
    "\n",
    "### Distribution of Movie Durations\n",
    "![Movie Durations](/Users/tanvimehrotra/Downloads/New/imgs/movie-durations.png)\n",
    "\n",
    "### Histogram and Boxplots of Key Numeric Fields\n",
    "![Histograms and Boxplots](/Users/tanvimehrotra/Downloads/New/imgs/histograms.png)\n",
    "\n",
    "### Gross Revenue vs IMDb Rating (coloured by Certificate)\n",
    "![Interactive Plot](/Users/tanvimehrotra/Downloads/New/imgs/interactive-plot.png)\n",
    "\n",
    "### Top 10 Most Common Genres\n",
    "![Top Genres](/Users/tanvimehrotra/Downloads/New/imgs/top-genres.png)\n",
    "\n",
    "### Top 10 Most Frequent Actors\n",
    "![Top Actors](/Users/tanvimehrotra/Downloads/New/imgs/top-actors.png)\n",
    "\n",
    "### Top 10 Directors with Most Movies\n",
    "![Top Directors](/Users/tanvimehrotra/Downloads/New/imgs/top-directors.png)\n",
    "\n",
    "### Distribution of Movie Certificates\n",
    "![Movie Certificates](/Users/tanvimehrotra/Downloads/New/imgs/movie-certs.png)\n",
    "\n",
    "### Movies with Lowest Ratings, Gross, and Runtime\n",
    "![Lowest Metrics](/Users/tanvimehrotra/Downloads/New/imgs/lowest-metrics.png)\n",
    "\n",
    "### Movies with Highest Ratings, Gross, and Runtime\n",
    "![Highest Metrics](/Users/tanvimehrotra/Downloads/New/imgs/highest-metrics.png)\n"
   ]
  },
  {
   "cell_type": "markdown",
   "id": "88936d9b",
   "metadata": {},
   "source": [
    "Below is the table having description about different types of content rating.\n",
    "\n",
    "| Content Rating | Description                                                 |\n",
    "|----------------|-------------------------------------------------------------|\n",
    "| Not Rated      | Movies that have not been assigned a specific rating. |\n",
    "| R              | Restricted, children under 17 require accompanying parents or adult guardians. |\n",
    "| PG             | Parental guidance suggested, some material may not be suitable for children. |\n",
    "| Approved       | Movies that have been approved for all audiences. |\n",
    "| PG-13          | Parents strongly cautioned, some material may be inappropriate for children under 13. |\n",
    "| G              | Suitable for all ages and audiences. |\n",
    "| Passed         | Movies that have been passed for all audiences. |\n",
    "| TV-MA          | Intended for mature audiences only, may contain graphic violence, explicit sex, or strong language. |\n",
    "| Unrated        | Movies with an unknown or missing rating. |\n",
    "| TV-G          | Parental guidance suggested for some material. |\n",
    "| M/PG           | Intended for mature audiences, parental guidance suggested. |\n",
    "| GP             | Suitable for general audiences. |\n",
    "| TV-14          | Parents strongly cautioned, some material may be inappropriate for children under 14. |\n",
    "| NC-17          | Intended for adults only, children under 17 not admitted. |"
   ]
  }
 ],
 "metadata": {
  "language_info": {
   "name": "python"
  }
 },
 "nbformat": 4,
 "nbformat_minor": 5
}
