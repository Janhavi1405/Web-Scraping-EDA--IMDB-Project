{
 "cells": [
  {
   "cell_type": "markdown",
   "id": "b9ea412d",
   "metadata": {},
   "source": [
    "# 1. Data Retrieval"
   ]
  },
  {
   "cell_type": "code",
   "execution_count": 14,
   "id": "d77cee14",
   "metadata": {},
   "outputs": [],
   "source": [
    "# Run this in a terminal\n",
    "# !pip install -r requirements.txt"
   ]
  },
  {
   "cell_type": "code",
   "execution_count": 15,
   "id": "f232ef10",
   "metadata": {},
   "outputs": [],
   "source": [
    "import requests\n",
    "import pandas as pd\n",
    "import time\n",
    "import random\n",
    "import re\n",
    "import concurrent.futures\n",
    "from bs4 import BeautifulSoup\n",
    "import sqlite3"
   ]
  },
  {
   "cell_type": "markdown",
   "id": "abb1e91f",
   "metadata": {},
   "source": [
    "## Web Scraping"
   ]
  },
  {
   "cell_type": "markdown",
   "id": "a45df9b8",
   "metadata": {},
   "source": [
    "### Web Scraping Letterboxd to get the list of the top 500 movies in history"
   ]
  },
  {
   "cell_type": "code",
   "execution_count": 16,
   "id": "b556ec03",
   "metadata": {},
   "outputs": [
    {
     "name": "stdout",
     "output_type": "stream",
     "text": [
      "✅ Scraped 100 movie titles from page 1\n",
      "✅ Scraped 100 movie titles from page 2\n",
      "✅ Scraped 100 movie titles from page 3\n",
      "✅ Scraped 100 movie titles from page 4\n",
      "✅ Scraped 100 movie titles from page 5\n",
      "🎯 Total scraped: 500 movies\n",
      "['The Godfather', 'The Godfather Part Ii', 'Seven Samurai', '12 Angry Men', 'City Lights', 'The Good The Bad And The Ugly', 'The Shawshank Redemption', 'Psycho', 'Modern Times', 'Schindlers List']\n"
     ]
    }
   ],
   "source": [
    "base_url = \"https://letterboxd.com/reelstats/list/the-500-greatest-movies-of-all-time-according/detail/page/{}/\"\n",
    "headers = {\n",
    "    \"User-Agent\": \"Mozilla/5.0 (Windows NT 10.0; Win64; x64) AppleWebKit/537.36 (KHTML, like Gecko) Chrome/119.0.0.0 Safari/537.36\"\n",
    "}\n",
    "\n",
    "top_500_titles = []\n",
    "for page_num in range(1, 6):\n",
    "    url = base_url.format(page_num)\n",
    "    response = requests.get(url, headers=headers)\n",
    "    soup = BeautifulSoup(response.content, \"html.parser\")\n",
    "\n",
    "    # Extract movie slugs\n",
    "    movies = soup.select(\"ul.poster-list li div.poster\")\n",
    "    for movie in movies:\n",
    "        title = movie.get(\"data-target-link\", None)\n",
    "        if title:\n",
    "            parts = title.strip('/').split('/')\n",
    "            if len(parts) >= 2:\n",
    "                movie_slug = parts[1]\n",
    "                movie_clean = movie_slug.replace('-', ' ').title()\n",
    "                top_500_titles.append(movie_clean)\n",
    "    print(f\"✅ Scraped {len(movies)} movie titles from page {page_num}\")\n",
    "\n",
    "print(f\"🎯 Total scraped: {len(top_500_titles)} movies\")\n",
    "print(top_500_titles[:10])"
   ]
  },
  {
   "cell_type": "code",
   "execution_count": 17,
   "id": "8ddda2e3",
   "metadata": {},
   "outputs": [
    {
     "name": "stdout",
     "output_type": "stream",
     "text": [
      "['Three Colours Red', 'Yojimbo', 'Back To The Future', 'My Neighbor Totoro', 'In The Mood For Love', 'Princess Mononoke', 'Saving Private Ryan', 'Cinema Paradiso', 'La Jetee', 'The Wages Of Fear', 'Das Boot', 'Fight Club', 'Nights Of Cabiria', 'La Strada', 'Amadeus', 'Forrest Gump', 'Spider Man Into The Spider Verse', 'The Lion King', 'Inception', 'Whiplash 2014', 'The Shop Around The Corner', 'Rififi', 'Umberto D', 'Army Of Shadows', 'Blade Runner', 'Samurai Rebellion', 'Close Up', 'The Circus', 'Raiders Of The Lost Ark', 'Grand Illusion', 'A Clockwork Orange', 'Eternal Sunshine Of The Spotless Mind', 'A Woman Under The Influence', 'The Cranes Are Flying', 'Yi Yi', 'To Kill A Mockingbird', 'The Matrix', 'The Sting', 'The Mother And The Whore', 'Se7En', 'Early Summer', 'Werckmeister Harmonies', 'Coco 2017', 'Toy Story', 'It Happened One Night', 'Reservoir Dogs', 'Unforgiven', 'The Deer Hunter', 'The Young And The Damned', 'The Best Years Of Our Lives', 'The Leopard', 'Time Of The Gypsies', 'Ali Fear Eats The Soul', 'Raise The Red Lantern', 'Terminator 2 Judgment Day', 'The Shining', 'Portrait Of A Lady On Fire', 'Viridiana', 'Greed', 'Gone With The Wind', 'There Will Be Blood', 'La Confidential', 'Paris Texas', 'Throne Of Blood', 'Toy Story 3', 'Memento', 'On The Waterfront', 'A Trip To The Moon', 'The Rules Of The Game', 'Red Beard', 'The Grapes Of Wrath', 'Au Hasard Balthazar', 'Autumn Sonata', 'Annie Hall', 'The Conformist', 'Rocco And His Brothers', 'Dersu Uzala', 'Cool Hand Luke', 'Monty Python And The Holy Grail', 'Le Samourai', 'Aliens', 'Playtime', 'The Bridge On The River Kwai', 'The Red Shoes', 'American Beauty', 'To Live', 'Battleship Potemkin', 'Day Of Wrath', 'All Quiet On The Western Front', 'Its Such A Beautiful Day', 'Full Metal Jacket', 'The Cabinet Of Dr Caligari 1920', 'Kes', 'The Usual Suspects', 'The Cameraman', 'Aparajito', 'The Elephant Man', 'Rebecca', 'Make Way For Tomorrow']\n"
     ]
    }
   ],
   "source": [
    "print(top_500_titles[101:200])"
   ]
  },
  {
   "cell_type": "markdown",
   "id": "0bbea6d2",
   "metadata": {},
   "source": [
    "### Using OMDb's API to create the dataset"
   ]
  },
  {
   "cell_type": "code",
   "execution_count": 18,
   "id": "ffba1587",
   "metadata": {},
   "outputs": [
    {
     "name": "stdout",
     "output_type": "stream",
     "text": [
      "Fetching 1/500: The Godfather\n",
      "Fetching 2/500: The Godfather Part Ii\n",
      "Fetching 3/500: Seven Samurai\n",
      "Fetching 4/500: 12 Angry Men\n",
      "Fetching 5/500: City Lights\n",
      "Fetching 6/500: The Good The Bad And The Ugly\n",
      "Fetching 7/500: The Shawshank Redemption\n",
      "Fetching 8/500: Psycho\n",
      "Fetching 9/500: Modern Times\n",
      "Fetching 10/500: Schindler's List\n",
      "Fetching 11/500: Pulp Fiction\n",
      "Fetching 12/500: Rear Window\n",
      "Fetching 13/500: One Flew Over the Cuckoo's Nest\n",
      "Fetching 14/500: Apocalypse Now\n",
      "Fetching 15/500: Tokyo Story\n",
      "Fetching 16/500: Spirited Away\n",
      "Fetching 17/500: Goodfellas\n",
      "Fetching 18/500: Vertigo\n",
      "Fetching 19/500: Singin In The Rain\n",
      "Fetching 20/500: Sunset Boulevard\n",
      "Fetching 21/500: Citizen Kane\n",
      "Fetching 22/500: Harakiri\n",
      "Fetching 23/500: Rashomon\n",
      "Fetching 24/500: Once Upon A Time In The West\n",
      "Fetching 25/500: Fanny And Alexander\n",
      "Fetching 26/500: The Lord Of The Rings The Return Of The King\n",
      "Fetching 27/500: Andrei Rublev\n",
      "Fetching 28/500: The Passion Of Joan Of Arc\n"
     ]
    },
    {
     "ename": "KeyboardInterrupt",
     "evalue": "",
     "output_type": "error",
     "traceback": [
      "\u001b[0;31m---------------------------------------------------------------------------\u001b[0m",
      "\u001b[0;31mKeyboardInterrupt\u001b[0m                         Traceback (most recent call last)",
      "Cell \u001b[0;32mIn[18], line 97\u001b[0m\n\u001b[1;32m     95\u001b[0m     \u001b[38;5;28;01melse\u001b[39;00m:\n\u001b[1;32m     96\u001b[0m         failed_movies\u001b[38;5;241m.\u001b[39mappend(corrected_title)\n\u001b[0;32m---> 97\u001b[0m     time\u001b[38;5;241m.\u001b[39msleep(\u001b[38;5;241m0.5\u001b[39m)\n\u001b[1;32m     99\u001b[0m df \u001b[38;5;241m=\u001b[39m pd\u001b[38;5;241m.\u001b[39mDataFrame(movie_data)\n\u001b[1;32m    100\u001b[0m df\u001b[38;5;241m.\u001b[39mto_csv(\u001b[38;5;124m\"\u001b[39m\u001b[38;5;124mimdb_top500_omdb.csv\u001b[39m\u001b[38;5;124m\"\u001b[39m, index\u001b[38;5;241m=\u001b[39m\u001b[38;5;28;01mFalse\u001b[39;00m)\n",
      "\u001b[0;31mKeyboardInterrupt\u001b[0m: "
     ]
    }
   ],
   "source": [
    "API_KEY = \"93a674ac\" \n",
    "OMDB_BASE_URL = \"http://www.omdbapi.com/\"\n",
    "\n",
    "#to fetch data for one movie\n",
    "def fetch_movie_data(title):\n",
    "    params = {\n",
    "        \"t\": title,\n",
    "        \"apikey\": API_KEY\n",
    "    }\n",
    "    try:\n",
    "        response = requests.get(OMDB_BASE_URL, params=params)\n",
    "        if response.status_code == 200:\n",
    "            data = response.json()\n",
    "            if data.get(\"Response\") == \"True\":\n",
    "                return {\n",
    "                    \"Title\": data.get(\"Title\"),\n",
    "                    \"Year\": data.get(\"Year\"),\n",
    "                    \"Rated\": data.get(\"Rated\"),\n",
    "                    \"Runtime\": data.get(\"Runtime\"),\n",
    "                    \"Genre\": data.get(\"Genre\"),\n",
    "                    \"Director\": data.get(\"Director\"),\n",
    "                    \"Stars\": data.get(\"Actors\"),\n",
    "                    \"IMDb_Rating\": data.get(\"imdbRating\"),\n",
    "                    \"Metascore\": data.get(\"Metascore\"),\n",
    "                    \"Votes\": data.get(\"imdbVotes\"),\n",
    "                    \"Gross\": data.get(\"BoxOffice\"),\n",
    "                    \"Plot\": data.get(\"Plot\")\n",
    "                }\n",
    "            else:\n",
    "                print(f\"❗ Movie not found: {title}\")\n",
    "        else:\n",
    "            print(f\"❗ Request failed for: {title}\")\n",
    "    except Exception as e:\n",
    "        print(f\"❗ Error fetching {title}: {e}\")\n",
    "    return None\n",
    "\n",
    "#for all movie metadata\n",
    "movie_data = []\n",
    "\n",
    "#manual corrections in movie titles\n",
    "title_corrections = {\n",
    "    \"Schindlers List\": \"Schindler's List\",\n",
    "    \"One Flew Over The Cuckoos Nest\": \"One Flew Over the Cuckoo's Nest\",\n",
    "    \"Sunrise A Song Of Two Humans\": \"Sunrise: A Song of Two Humans\",\n",
    "    \"Its A Wonderful Life\": \"It's a Wonderful Life\",\n",
    "    \"8 Half\": \"8½\",\n",
    "    \"Apur Sansar\": \"The World of Apu\",\n",
    "    \"Witness For The Prosecution 1957\": \"Witness for the Prosecution\",\n",
    "    \"Walle\": \"WALL·E\",\n",
    "    \"Three Colours Red\": \"Three Colors: Red\",\n",
    "    \"Coco 2017\": \"Coco\",\n",
    "    \"Its Such A Beautiful Day\": \"It's Such a Beautiful Day\",\n",
    "    \"The Cabinet Of Dr Caligari 1920\": \"The Cabinet of Dr. Caligari\",\n",
    "    \"Underground 1995\": \"Underground\",\n",
    "    \"Ivans Childhood\": \"Ivan's Childhood\",\n",
    "    \"Faust 1926\": \"Faust\",\n",
    "    \"Diabolique 1955\": \"Les Diaboliques\",\n",
    "    \"Latalante\": \"L'Atalante\",\n",
    "    \"Forbidden Games 1952\": \"Forbidden Games\",\n",
    "    \"Howls Moving Castle\": \"Howl's Moving Castle\",\n",
    "    \"Rosemarys Baby\": \"Rosemary's Baby\",\n",
    "    \"Lavventura\": \"L'Avventura\",\n",
    "    \"Three Colours Blue\": \"Three Colors: Blue\",\n",
    "    \"Inside Out 2015\": \"Inside Out\",\n",
    "    \"Where Is The Friends House\": \"Where Is My Friend's House?\",\n",
    "    \"Nostalgia 1983\": \"Nostalghia\",\n",
    "    \"Leclisse\": \"L'Eclisse\",\n",
    "    \"In The Name Of The Father 1993\": \"In the Name of the Father\",\n",
    "    \"The Maltese Falcon 1941\": \"The Maltese Falcon\",\n",
    "    \"Pans Labyrinth\": \"Pan's Labyrinth\",\n",
    "    \"Ben Hur 1959\": \"Ben-Hur\",\n",
    "    \"Fireworks 1997\": \"Hana-bi\",\n",
    "    \"My Night At Mauds\": \"My Night at Maud's\",\n",
    "    \"Marriage Story 2019\": \"Marriage Story\",\n",
    "    \"Intolerance Loves Struggle Throughout The Ages\": \"Intolerance: Love's Struggle Throughout the Ages\",\n",
    "    \"My Left Foot The Story Of Christy Brown\": \"My Left Foot\",\n",
    "    \"The Kings Speech\": \"The King's Speech\",\n",
    "    \"Whos Afraid Of Virginia Woolf\": \"Who's Afraid of Virginia Woolf?\",\n",
    "    \"The Gospel According To Matthew 1964\": \"The Gospel According to St. Matthew\",\n",
    "    \"Kikis Delivery Service\": \"Kiki's Delivery Service\",\n",
    "    \"All The Presidents Men\": \"All the President's Men\",\n",
    "    \"Mommy 2014\": \"Mommy\",\n",
    "    \"A Hard Days Night\": \"A Hard Day's Night\",\n",
    "    \"Duck Soup 1933\": \"Duck Soup\",\n",
    "    \"Carlitos Way\": \"Carlito's Way\"\n",
    "}\n",
    "failed_movies = [] \n",
    "for idx, movie_title in enumerate(top_500_titles, 1):\n",
    "    corrected_title = title_corrections.get(movie_title, movie_title)\n",
    "\n",
    "    print(f\"Fetching {idx}/{len(top_500_titles)}: {corrected_title}\")\n",
    "    data = fetch_movie_data(corrected_title)\n",
    "    if data:\n",
    "        movie_data.append(data)\n",
    "    else:\n",
    "        failed_movies.append(corrected_title)\n",
    "    time.sleep(0.5)\n",
    "\n",
    "df = pd.DataFrame(movie_data)\n",
    "df.to_csv(\"imdb_top500_omdb.csv\", index=False)\n",
    "print(\"✅ Successfully saved imdb_top500_omdb.csv!\")"
   ]
  },
  {
   "cell_type": "markdown",
   "id": "7b94fa18",
   "metadata": {},
   "source": [
    "- The dataset was compiled by scraping the top 500 movies from Letterboxd, which were distributed across five pages. \n",
    "\n",
    "- The scraping process was performed using Python's requests and BeautifulSoup libraries. \n",
    "\n",
    "- The scraped movie titles were then enriched using the OMDb API to retrieve structured metadata, including runtime, ratings, genres, directors, cast, and box office information. \n",
    "\n",
    "- All code for data retrieval is available in the `WebScraping+API-1.ipynb` notebook."
   ]
  },
  {
   "cell_type": "markdown",
   "id": "7a68e650",
   "metadata": {},
   "source": [
    "# Data Backups: Raw Data"
   ]
  },
  {
   "cell_type": "code",
   "execution_count": 19,
   "id": "0ee7a1f6",
   "metadata": {},
   "outputs": [],
   "source": [
    "#Loading data to check once\n",
    "df = pd.read_csv('/Users/janhavisharma/Desktop/MSDS/2 SEM 2/Data Wrangling/Project/Final/Web-Scraping-EDA--IMDB-Project/imdb_top500_omdb.csv')"
   ]
  },
  {
   "cell_type": "markdown",
   "id": "835fa8d6",
   "metadata": {},
   "source": [
    "#### Method-1: CSV"
   ]
  },
  {
   "cell_type": "markdown",
   "id": "211afb88",
   "metadata": {},
   "source": [
    "Storing data in csv file <br>\n",
    "Advantage- Good for Basic data sharing, helps in quick imports"
   ]
  },
  {
   "cell_type": "code",
   "execution_count": 20,
   "id": "a02a1f74",
   "metadata": {},
   "outputs": [],
   "source": [
    "df.to_csv('raw_data.csv', index=False)"
   ]
  },
  {
   "cell_type": "markdown",
   "id": "69254e09",
   "metadata": {},
   "source": [
    "#### Method-2: Excel"
   ]
  },
  {
   "cell_type": "markdown",
   "id": "733ace28",
   "metadata": {},
   "source": [
    "Storing data in excel file <br>\n",
    "Advantage- Makes Data sharing with non-technical users easy"
   ]
  },
  {
   "cell_type": "code",
   "execution_count": 21,
   "id": "2537ae44",
   "metadata": {},
   "outputs": [],
   "source": [
    "df.to_excel('movies_raw.xlsx', index=False)"
   ]
  },
  {
   "cell_type": "markdown",
   "id": "39ca9401",
   "metadata": {},
   "source": [
    "#### Method-3: SQLite DB"
   ]
  },
  {
   "cell_type": "markdown",
   "id": "d9910817",
   "metadata": {},
   "source": [
    "Storing data in database storage using SQLite <br>\n",
    "Advantage- Good for complex querying, ensures data integrity"
   ]
  },
  {
   "cell_type": "code",
   "execution_count": 22,
   "id": "3575dff5",
   "metadata": {},
   "outputs": [],
   "source": [
    "conn = sqlite3.connect('movies_raw.db')\n",
    "df.to_sql('movies', conn, index=False, if_exists='replace')\n",
    "conn.close()"
   ]
  },
  {
   "cell_type": "markdown",
   "id": "25e2b462",
   "metadata": {},
   "source": [
    "# We'll be performing EDA on this csv."
   ]
  }
 ],
 "metadata": {
  "kernelspec": {
   "display_name": "msds597",
   "language": "python",
   "name": "python3"
  },
  "language_info": {
   "codemirror_mode": {
    "name": "ipython",
    "version": 3
   },
   "file_extension": ".py",
   "mimetype": "text/x-python",
   "name": "python",
   "nbconvert_exporter": "python",
   "pygments_lexer": "ipython3",
   "version": "3.12.8"
  }
 },
 "nbformat": 4,
 "nbformat_minor": 5
}
