{
 "cells": [
  {
   "cell_type": "markdown",
   "metadata": {},
   "source": [
    "# Data Visualization"
   ]
  },
  {
   "cell_type": "markdown",
   "metadata": {},
   "source": [
    "## Key Data Analysis"
   ]
  },
  {
   "cell_type": "markdown",
   "metadata": {},
   "source": [
    "### 1. Histogram and Boxplots of Key Numeric Fields\n",
    "![Histograms and Boxplots](/Users/tanvimehrotra/Downloads/New/imgs/histograms.png)"
   ]
  },
  {
   "cell_type": "markdown",
   "metadata": {},
   "source": [
    "**Inference:**\n",
    "\n",
    "When examining the Histograms and Boxplots of each numerical variable, several insightful patterns emerge:\n",
    "\n",
    "- **Year:**\n",
    "  The distribution of `Year` appears left-skewed, suggesting that a majority of movies in the top 1000 IMDb list were produced from the 1960s onwards. Notably, the earliest movie on the list dates back to the 1900s, highlighting the historical breadth of the selection.\n",
    "\n",
    "- **Runtime:**\n",
    "  The `Runtime` variable's distribution is centered around the 100 to 130-minute range, indicating that most movies within the dataset have typical lengths. Outliers are evident both on the longer end (duration exceeding 200 minutes) and the shorter end (a single movie with a duration under 50 minutes).\n",
    "\n",
    "- **Rating and Metascore:**\n",
    "  While the Histogram of `IMDB_ Rating` is skewed, the `Metascore` distribution leans left. Despite this divergence in distribution shapes, both scores exhibit similar ranges. The interquartile range (IQR) of `IMDB_ Rating` falls between approximately 7.7 and 8.3, while for `Metascore`, the IQR spans around 70 to 90. An intriguing point is that, despite being the top 1000 IMDb movies, `Metascore` has some outliers with scores under 70, in contrast to `IMDB_ Rating`.\n",
    "\n",
    "- **Votes and Gross:**\n",
    "  The distributions of both `Votes` and `Gross` exhibit a right-skewed pattern, implying that the majority of movies received a substantial yet modest number of votes and generated moderate revenue. The existence of few outliers in both categories emphasizes the  influence exerted by a select few movies, which contributes to a marked increase in the overall vote count and gross revenue figures."
   ]
  },
  {
   "cell_type": "markdown",
   "metadata": {},
   "source": [
    "### 2. Distribution of Movie Certificates"
   ]
  },
  {
   "cell_type": "markdown",
   "metadata": {},
   "source": [
    "**Inference:**\n",
    "\n",
    "Upon examining the content ratings of the movies in the dataset, several observations can be made:\n",
    "\n",
    "- The majority of films, over 150 in number, are rated 'Not Rated', signifying content suitable for **All Ages**.\n",
    "- The 'R' category follows with around 130 movies, indicating content for **Adults**.\n",
    "- 'PG-13' and 'PG','Approved' occupy the 3rd, 4th and 5th positions, each with approximately 50-70 movies, representing content for **Teens/PG**.\n",
    "- The 'Passed', 'G', and 'Approved' categories are all part of the **All Ages** group, each with just under 20 movies.\n",
    "- Other categories have significantly fewer movies, typically less than 10.\n",
    "\n",
    "This analysis provides insight into the distribution of content ratings and their corresponding target audiences."
   ]
  },
  {
   "cell_type": "markdown",
   "metadata": {},
   "source": [
    "### 3. Top 10 Most Frequent Actors\n",
    "![Top Actors](/Users/tanvimehrotra/Downloads/New/imgs/top-actors.png)"
   ]
  },
  {
   "cell_type": "markdown",
   "metadata": {},
   "source": [
    "**Inference:** \n",
    "\n",
    "Notably, Toshiro Mifun and James Stewart shines with an impressive 10 appearances. Robert De Niro follows closely with a notable count of 8 appearances.\n",
    "Sharing the spotlight are Charles Chaplin and Tatsayu, each leaving a significant mark with 8 appearances.\n",
    "It's particularly intriguing to observe the international resonance of this list."
   ]
  },
  {
   "cell_type": "markdown",
   "metadata": {},
   "source": [
    "### 4. Top 15 Actor-Director Duos by Number of Collaborations\n",
    "![Top Actors](/Users/tanvimehrotra/Downloads/New/imgs/top-actors.png)"
   ]
  },
  {
   "cell_type": "markdown",
   "metadata": {},
   "source": [
    "Inference:  Charles chaplin made highest number of movies where he was the actor as well as the director with maximum number of movies in top 500 followed by Toshiro muifun and Akira Kurosawa"
   ]
  },
  {
   "cell_type": "markdown",
   "metadata": {},
   "source": [
    "### 5. Top 10 Most Common Genres\n",
    "![Top Genres](/Users/tanvimehrotra/Downloads/New/imgs/top-genres.png)"
   ]
  },
  {
   "cell_type": "markdown",
   "metadata": {},
   "source": [
    "**Inference:**\n",
    "\n",
    "Among the top 1000 IMDB movies, the most prevalent genre is 'Drama', accounting for over 300 movies. Following are 'Comedy', 'Action', 'Crime', and 'Adventure', each with approximately 100 appearances.\n",
    "\n",
    "Conversely, 'Sports', 'Musical', and 'Western' are the least common genres, each appearing in only around 15 movies. The other genres fall within a range of 100 to 200 appearances.\n",
    "\n",
    "This distribution reflects the dominant influence of 'Drama' in the selection, followed by a mix of popular genres."
   ]
  },
  {
   "cell_type": "markdown",
   "metadata": {},
   "source": [
    "### 6. Correlation Analysis\n",
    "![Top Genres](/Users/tanvimehrotra/Downloads/New/imgs/top-genres.png)"
   ]
  },
  {
   "cell_type": "markdown",
   "metadata": {},
   "source": [
    "**Inference:**\n",
    "\n",
    "After a thorough analysis of the heatmap, a clear correlation emerges between several pairs of variables.\n",
    "- Notably, the correlation coefficient of 0.6 between `Votes` and `IMDB_Rating` emphasizes a substantial and positive connection between these two aspects.\n",
    "- Additionally, a significant correlation is noticeable between `Gross` and `Votes`, as evidenced by a correlation coefficient of 0.6.\n",
    "- On a different note, the `Year` exhibits a negative correlation of -0.4 with `Metascore`. This suggests that more contemporary films tend to receive comparatively lower Metascores, implying a trend of decreasing critical reception over time.\n",
    "\n",
    "Next we have pairplot to see the relationship more clearly:"
   ]
  },
  {
   "cell_type": "markdown",
   "metadata": {},
   "source": [
    "### 7. Trend of Votes, Gross & Metascore over Time\n",
    "![Top Genres](/Users/tanvimehrotra/Downloads/New/imgs/top-genres.png)"
   ]
  },
  {
   "cell_type": "markdown",
   "metadata": {},
   "source": [
    "**Inference:**\n",
    "\n",
    "Observed, a positive correlation exists between the `Gross` and `Votes` metrics with the `Year` in the dataset. This correlation can be attributed to the expanding global population and the growing accessibility to movies over time. As the population increases, more individuals have the opportunity to watch and engage with movies, leading to higher movie revenues (`Gross`) and greater participation in rating and reviewing (`Votes`).\n",
    "\n",
    "However, it's important to note that a recent trend shows a negative correlation between the `Metascore` and the `Year`. This suggests that movies released more recently have been receiving lower Metascores compared to those in the past so more analysis should be conducted to check this assumption."
   ]
  },
  {
   "cell_type": "markdown",
   "metadata": {},
   "source": [
    "### 8. Top 15 Genres by Average IMDB Ratings\n",
    "![Top Genres](/Users/tanvimehrotra/Downloads/New/imgs/top-genres.png)"
   ]
  },
  {
   "cell_type": "markdown",
   "metadata": {},
   "source": [
    "**Inference**:\n",
    "\n",
    "This gives a great view of which genres are critically loved.\n",
    "Short film became the genre with maximum number of movies that were highly rated in the top 500."
   ]
  },
  {
   "cell_type": "markdown",
   "metadata": {},
   "source": [
    "### 9. Are the most voted movies also the ones that made the most money?\n",
    "![Top Genres](/Users/tanvimehrotra/Downloads/New/imgs/top-genres.png)"
   ]
  },
  {
   "cell_type": "markdown",
   "metadata": {},
   "source": [
    "**Inference**:\n",
    "\n",
    "We saw a strong positive correlation that more  votes  movie gets the stronger it does at the box office financially, suggesting that popular engagement often goes  hand in hand with commercial success."
   ]
  },
  {
   "cell_type": "markdown",
   "metadata": {},
   "source": [
    "## Statistical Analysis: Regression Slopes"
   ]
  },
  {
   "cell_type": "markdown",
   "metadata": {},
   "source": [
    "### 10. Finding how a director’s movie ratings have changed over time?\n",
    "![Top Genres](/Users/tanvimehrotra/Downloads/New/imgs/top-genres.png)"
   ]
  },
  {
   "cell_type": "markdown",
   "metadata": {},
   "source": [
    "**Inference**:\n",
    "\n",
    "We performed a regression analysis of IMDb Rating over Year of Release for each director with at least 3 movies in the dataset. The results show a diverse pattern: directors like James Cameron and Satyajit Ray exhibited strong positive trends in ratings over time, suggesting growing acclaim or improved quality. Conversely, directors such as Francis Ford Coppola and David Fincher showed negative slopes, indicating higher ratings for their earlier works. These trends offer insight into the temporal evolution of directors’ filmography and critical reception."
   ]
  },
  {
   "cell_type": "markdown",
   "metadata": {},
   "source": [
    "### 11. Adressing if movies of top actors getting better or worse ratings over time?\n",
    "![Top Genres](/Users/tanvimehrotra/Downloads/New/imgs/top-genres.png)"
   ]
  },
  {
   "cell_type": "markdown",
   "metadata": {},
   "source": [
    "**Inference**:\n",
    "\n",
    "We analyzed the top 10 most frequently appearing actors in our dataset to observe how their IMDb ratings have changed over time. Actors like Cary Grant and James Stewart exhibit slightly positive rating trends, suggesting rising appreciation of their later work. Conversely, actors such as Al Pacino and Tom Hanks show negative trends, indicating higher critical acclaim in the earlier stages of their careers. These slopes offer insights into temporal audience perception and critical reception across decades of acting work."
   ]
  },
  {
   "cell_type": "markdown",
   "metadata": {},
   "source": [
    "### 12.Figuring out if movies in different genres getting better or worse reception over the decades?”\n",
    "![Top Genres](/Users/tanvimehrotra/Downloads/New/imgs/top-genres.png)"
   ]
  },
  {
   "cell_type": "markdown",
   "metadata": {},
   "source": [
    "**Inference**\n",
    "\n",
    "We analyzed how IMDb ratings have changed over time for each genre. Genres like Short, Western, and Sci-Fi show positive regression slopes, suggesting a rise in critical or audience appreciation in recent years. In contrast, Documentary, Musical, and Film-Noir exhibit negative slopes, indicating stronger historical performance and relatively lower modern reception. This analysis highlights how genre evolution and viewer expectations shape long-term critical trends."
   ]
  }
 ],
 "metadata": {
  "language_info": {
   "name": "python"
  }
 },
 "nbformat": 4,
 "nbformat_minor": 2
}
